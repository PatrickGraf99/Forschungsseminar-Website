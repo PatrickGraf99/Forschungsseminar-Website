{
 "cells": [
  {
   "cell_type": "markdown",
   "id": "574b2a8d4db0b7d",
   "metadata": {},
   "source": [
    "# Download\n",
    "First we need to download all files from the server and combine them into a single dataframe"
   ]
  },
  {
   "cell_type": "code",
   "id": "initial_id",
   "metadata": {
    "collapsed": true,
    "ExecuteTime": {
     "end_time": "2025-03-19T17:38:10.633577Z",
     "start_time": "2025-03-19T17:38:05.772089Z"
    }
   },
   "source": [
    "import pandas as pd\n",
    "import os\n",
    "import numpy as np\n",
    "import matplotlib.pyplot as plt\n",
    "from statistics import mean, stdev, median\n",
    "\n",
    "\n",
    "files = os.listdir('data')\n",
    "print(files)\n",
    "df = pd.concat([pd.read_csv('data/' + file) for file in files], ignore_index=True)"
   ],
   "outputs": [
    {
     "name": "stdout",
     "output_type": "stream",
     "text": [
      "['part10.csv', 'part11.csv', 'part3.csv', 'part4.csv', 'part5.csv', 'part6.csv', 'part7.csv', 'part8.csv', 'part9.csv']\n"
     ]
    }
   ],
   "execution_count": 1
  },
  {
   "cell_type": "markdown",
   "id": "d09aa4eabf1675d7",
   "metadata": {},
   "source": [
    "# Mean times for each setting"
   ]
  },
  {
   "cell_type": "code",
   "id": "cbd0c613",
   "metadata": {
    "ExecuteTime": {
     "end_time": "2025-03-17T18:31:18.428229Z",
     "start_time": "2025-03-17T18:31:18.428229Z"
    }
   },
   "source": [
    "mean_time_to_finish_dark_mode = df[df[\"ui_mode\"] == \"dark_mode\"][\"time_to_finish\"].mean()\n",
    "mean_time_to_finish_light_mode = df[df['ui_mode'] == 'light_mode']['time_to_finish'].mean()\n",
    "mean_time_to_finish_combined = df['time_to_finish'].mean()\n",
    "\n",
    "median_time_to_finish_dark_mode = df[df[\"ui_mode\"] == \"dark_mode\"][\"time_to_finish\"].median()\n",
    "median_time_to_finish_light_mode = df[df['ui_mode'] == 'light_mode']['time_to_finish'].median()\n",
    "median_time_to_finish_combined = df['time_to_finish'].median()\n",
    "\n",
    "print(mean_time_to_finish_dark_mode)\n",
    "print(mean_time_to_finish_light_mode)\n",
    "print(mean_time_to_finish_combined)\n",
    "\n",
    "print(median_time_to_finish_dark_mode)\n",
    "print(median_time_to_finish_light_mode)\n",
    "print(median_time_to_finish_combined)"
   ],
   "outputs": [],
   "execution_count": null
  },
  {
   "cell_type": "code",
   "id": "617bbbce",
   "metadata": {},
   "source": [
    "visualization = plt.bar(['dark mode', 'light mode'],[mean_time_to_finish_dark_mode, mean_time_to_finish_light_mode])\n",
    "plt.title('Mean time to finish')\n",
    "plt.xlabel('Environments')\n",
    "plt.ylabel('Times')"
   ],
   "outputs": [],
   "execution_count": null
  },
  {
   "cell_type": "code",
   "id": "077df4fb",
   "metadata": {},
   "source": [
    "mean_time_to_finish_dark_mode_dark_env = df[(df[\"ui_mode\"] == \"dark_mode\") & (df['environment'] == 'dark_env')][\"time_to_finish\"].mean()\n",
    "mean_time_to_finish_light_mode_light_env = df[(df['ui_mode'] == 'light_mode') & (df['environment'] == 'light_env')]['time_to_finish'].mean()\n",
    "mean_time_to_finish_dark_mode_light_env = df[(df[\"ui_mode\"] == \"dark_mode\") & (df['environment'] == 'light_env')][\"time_to_finish\"].mean()\n",
    "mean_time_to_finish_light_mode_dark_env = df[(df['ui_mode'] == 'light_mode') & (df['environment'] == 'dark_env')]['time_to_finish'].mean()\n",
    "\n",
    "modes_with_environments = [mean_time_to_finish_dark_mode_dark_env, mean_time_to_finish_dark_mode_light_env, mean_time_to_finish_light_mode_light_env, mean_time_to_finish_light_mode_dark_env]\n",
    "\n",
    "print(modes_with_environments)"
   ],
   "outputs": [],
   "execution_count": null
  },
  {
   "cell_type": "code",
   "id": "54dbd9f0",
   "metadata": {},
   "source": [
    "visualization = plt.bar(['dark in dark', 'dark in light', 'light in light', 'light in dark'], modes_with_environments)\n",
    "plt.title('Mean time to finish (Less is better)')\n",
    "plt.xlabel('Settings')\n",
    "plt.ylabel('Times')"
   ],
   "outputs": [],
   "execution_count": null
  },
  {
   "cell_type": "code",
   "id": "3b2a3bb0",
   "metadata": {},
   "source": [
    "ttf_o_e = df[(df[\"fill_character\"] == \"o\") | (df['outlier_character'] == 'o')][\"time_to_finish\"].mean()\n",
    "ttf_0_8 = df[(df[\"fill_character\"] == \"0\") | (df['outlier_character'] == '0')][\"time_to_finish\"].mean()\n",
    "ttf_v_u = df[(df[\"fill_character\"] == \"v\") | (df['outlier_character'] == 'v')][\"time_to_finish\"].mean()\n",
    "ttf_7_T = df[(df[\"fill_character\"] == \"7\") | (df['outlier_character'] == '7')][\"time_to_finish\"].mean()\n",
    "\n",
    "filler_outlier_means = [ttf_o_e, ttf_0_8, ttf_v_u, ttf_7_T]\n",
    "print(filler_outlier_means)"
   ],
   "outputs": [],
   "execution_count": null
  },
  {
   "cell_type": "code",
   "id": "04a5d8c8",
   "metadata": {},
   "source": [
    "visualization = plt.bar(['o - e', '0 - 8', 'v - u', '7 - T'], filler_outlier_means)\n",
    "plt.title('Mean time to finish (Less is better)')\n",
    "plt.xlabel('Character Pairs')\n",
    "plt.ylabel('Times')"
   ],
   "outputs": [],
   "execution_count": null
  },
  {
   "metadata": {},
   "cell_type": "code",
   "source": "",
   "id": "da93c4bd665a3478",
   "outputs": [],
   "execution_count": null
  }
 ],
 "metadata": {
  "kernelspec": {
   "display_name": ".venv",
   "language": "python",
   "name": "python3"
  },
  "language_info": {
   "codemirror_mode": {
    "name": "ipython",
    "version": 3
   },
   "file_extension": ".py",
   "mimetype": "text/x-python",
   "name": "python",
   "nbconvert_exporter": "python",
   "pygments_lexer": "ipython3",
   "version": "3.13.2"
  }
 },
 "nbformat": 4,
 "nbformat_minor": 5
}
