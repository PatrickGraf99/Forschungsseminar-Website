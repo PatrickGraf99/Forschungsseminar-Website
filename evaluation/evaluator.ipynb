{
 "cells": [
  {
   "metadata": {},
   "cell_type": "markdown",
   "source": [
    "# Download\n",
    "First we need to download all files from the server and combine them into a single dataframe"
   ],
   "id": "574b2a8d4db0b7d"
  },
  {
   "cell_type": "code",
   "execution_count": null,
   "id": "initial_id",
   "metadata": {
    "collapsed": true
   },
   "outputs": [],
   "source": [
    "import pandas as pd\n",
    "\n",
    "files = [] #TODO: Fetch files from server\n",
    "\n",
    "df = pd.concat([pd.read_csv(file) for file in files], ignore_index=True)"
   ]
  },
  {
   "metadata": {},
   "cell_type": "markdown",
   "source": "# Mean times for each setting",
   "id": "d09aa4eabf1675d7"
  },
  {
   "metadata": {},
   "cell_type": "code",
   "outputs": [],
   "execution_count": null,
   "source": [
    "import matplotlib.pyplot as plt\n",
    "import seaborn as sns\n",
    "\n",
    "def plot_avg_time_by_setting(df):\n",
    "    # Compute average time for each setting\n",
    "    avg_times = df.groupby([\"ui_mode\", \"environment\"])[\"time_to_finish\"].mean().reset_index()\n",
    "    \n",
    "    # Create the plot\n",
    "    plt.figure(figsize=(10, 6))\n",
    "    sns.barplot(x=\"ui_mode\", y=\"time_to_finish\", hue=\"environment\", data=avg_times)\n",
    "\n",
    "    # Labels and title\n",
    "    plt.xlabel(\"UI Mode\")\n",
    "    plt.ylabel(\"Average Time to Finish (ms)\")\n",
    "    plt.title(\"Average Task Completion Time by UI Mode and Environment\")\n",
    "    plt.legend(title=\"Environment\")\n",
    "\n",
    "    # Show the plot\n",
    "    plt.show()\n",
    "\n",
    "# Call the function\n",
    "plot_avg_time_by_setting(df)"
   ],
   "id": "f874f8210c4bf348"
  },
  {
   "metadata": {},
   "cell_type": "markdown",
   "source": "# Mean times for trial",
   "id": "27830d822b0e1038"
  },
  {
   "metadata": {},
   "cell_type": "code",
   "outputs": [],
   "execution_count": null,
   "source": [
    "def plot_overall_learning_trend(df):\n",
    "    # Select only relevant trials\n",
    "    selected_trials = [1] + list(range(10, 61, 10))\n",
    "    df_filtered = df[df[\"trial\"].isin(selected_trials)]\n",
    "\n",
    "    # Compute the mean time per trial across all settings\n",
    "    avg_times = df_filtered.groupby(\"trial\")[\"time_to_finish\"].mean().reset_index()\n",
    "\n",
    "    # Plot the trend\n",
    "    plt.figure(figsize=(10, 6))\n",
    "    sns.lineplot(x=\"trial\", y=\"time_to_finish\", data=avg_times, marker=\"o\", linewidth=2)\n",
    "\n",
    "    # Labels and title\n",
    "    plt.xlabel(\"Trial Number\")\n",
    "    plt.ylabel(\"Average Time to Finish (ms)\")\n",
    "    plt.title(\"Overall Learning Trend: Task Completion Time Over Trials\")\n",
    "\n",
    "    # Show the plot\n",
    "    plt.show()\n",
    "\n",
    "# Call the function\n",
    "plot_overall_learning_trend(df)"
   ],
   "id": "b3e36d0e46ebe557"
  }
 ],
 "metadata": {
  "kernelspec": {
   "display_name": "Python 3",
   "language": "python",
   "name": "python3"
  },
  "language_info": {
   "codemirror_mode": {
    "name": "ipython",
    "version": 2
   },
   "file_extension": ".py",
   "mimetype": "text/x-python",
   "name": "python",
   "nbconvert_exporter": "python",
   "pygments_lexer": "ipython2",
   "version": "2.7.6"
  }
 },
 "nbformat": 4,
 "nbformat_minor": 5
}
